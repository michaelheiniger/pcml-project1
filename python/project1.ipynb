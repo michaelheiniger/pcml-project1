{
 "cells": [
  {
   "cell_type": "code",
   "execution_count": 14,
   "metadata": {
    "collapsed": true
   },
   "outputs": [],
   "source": [
    "# Useful starting lines\n",
    "%matplotlib inline\n",
    "import numpy as np\n",
    "import matplotlib.pyplot as plt\n",
    "%load_ext autoreload\n",
    "%autoreload 2"
   ]
  },
  {
   "cell_type": "markdown",
   "metadata": {},
   "source": [
    "## Load the training data into feature matrix, class labels, and event ids:"
   ]
  },
  {
   "cell_type": "code",
   "execution_count": 1,
   "metadata": {
    "collapsed": false
   },
   "outputs": [
    {
     "name": "stdout",
     "output_type": "stream",
     "text": [
      "(250000, 30)\n"
     ]
    }
   ],
   "source": [
    "from proj1_helpers import *\n",
    "DATA_TRAIN_PATH = '/Users/chiara/Documents/EPFL/Master/Ma1/MachineLearning/project1//data/train.csv' # TODO: download train data and supply path here \n",
    "y, tX, ids = load_csv_data(DATA_TRAIN_PATH)\n",
    "\n",
    "print(tX[:,0] == -999.)"
   ]
  },
  {
   "cell_type": "code",
   "execution_count": 60,
   "metadata": {
    "collapsed": false
   },
   "outputs": [
    {
     "data": {
      "text/plain": [
       "(250000, 30)"
      ]
     },
     "execution_count": 60,
     "metadata": {},
     "output_type": "execute_result"
    }
   ],
   "source": [
    "tX.shape"
   ]
  },
  {
   "cell_type": "code",
   "execution_count": 77,
   "metadata": {
    "collapsed": false
   },
   "outputs": [
    {
     "name": "stdout",
     "output_type": "stream",
     "text": [
      "[[ -9.99000000e+02  -9.99000000e+02]\n",
      " [  4.11813000e+02  -1.86000000e+00]\n",
      " [ -9.99000000e+02  -9.99000000e+02]\n",
      " [ -9.99000000e+02  -9.99000000e+02]\n",
      " [ -9.99000000e+02  -9.99000000e+02]\n",
      " [ -9.99000000e+02  -9.99000000e+02]\n",
      " [  2.40200000e+01   7.90100000e+00]\n",
      " [  2.62610000e+02  -6.70000000e-02]\n",
      " [ -9.99000000e+02  -9.99000000e+02]\n",
      " [  1.62191000e+02  -5.46000000e-01]\n",
      " [  7.30560000e+01   1.64900000e+00]\n",
      " [ -9.99000000e+02  -9.99000000e+02]\n",
      " [ -9.99000000e+02  -9.99000000e+02]\n",
      " [ -9.99000000e+02  -9.99000000e+02]\n",
      " [ -9.99000000e+02  -9.99000000e+02]\n",
      " [ -9.99000000e+02  -9.99000000e+02]\n",
      " [ -9.99000000e+02  -9.99000000e+02]\n",
      " [ -9.99000000e+02  -9.99000000e+02]\n",
      " [  5.80126000e+02  -3.43600000e+00]\n",
      " [ -9.99000000e+02  -9.99000000e+02]]\n",
      "[[  2.52302667e+02   6.06833333e-01]\n",
      " [  4.11813000e+02  -1.86000000e+00]\n",
      " [  2.52302667e+02   6.06833333e-01]\n",
      " [  2.52302667e+02   6.06833333e-01]\n",
      " [  2.52302667e+02   6.06833333e-01]\n",
      " [  2.52302667e+02   6.06833333e-01]\n",
      " [  2.40200000e+01   7.90100000e+00]\n",
      " [  2.62610000e+02  -6.70000000e-02]\n",
      " [  2.52302667e+02   6.06833333e-01]\n",
      " [  1.62191000e+02  -5.46000000e-01]\n",
      " [  7.30560000e+01   1.64900000e+00]\n",
      " [  2.52302667e+02   6.06833333e-01]\n",
      " [  2.52302667e+02   6.06833333e-01]\n",
      " [  2.52302667e+02   6.06833333e-01]\n",
      " [  2.52302667e+02   6.06833333e-01]\n",
      " [  2.52302667e+02   6.06833333e-01]\n",
      " [  2.52302667e+02   6.06833333e-01]\n",
      " [  2.52302667e+02   6.06833333e-01]\n",
      " [  5.80126000e+02  -3.43600000e+00]\n",
      " [  2.52302667e+02   6.06833333e-01]]\n"
     ]
    }
   ],
   "source": [
    "bla = tX[50:70, 5:7]\n",
    "foo = replace_by_mean(bla)\n",
    "print(bla)\n",
    "print(foo)"
   ]
  },
  {
   "cell_type": "markdown",
   "metadata": {},
   "source": [
    "## Do your thing crazy machine learning thing here :) ..."
   ]
  },
  {
   "cell_type": "code",
   "execution_count": 76,
   "metadata": {
    "collapsed": false
   },
   "outputs": [],
   "source": [
    "def replace_by_mean(tX):\n",
    "    \"\"\"replaces the -999. values by the mean of the respective column\"\"\"\n",
    "    new_tX = np.copy(tX)\n",
    "    for col in range(0, tX.shape[1]):\n",
    "        #compute the mean over all 'normal' entries\n",
    "        idx = (tX[:, col] != -999.)\n",
    "        mean_col = np.mean(tX[:, col][idx])\n",
    "        #replace the -999. by the mean\n",
    "        new_tX[:, col][np.logical_not(idx)] = mean_col \n",
    "    \n",
    "    return new_tX"
   ]
  },
  {
   "cell_type": "markdown",
   "metadata": {},
   "source": [
    "## Generate predictions and save ouput in csv format for submission:"
   ]
  },
  {
   "cell_type": "code",
   "execution_count": 7,
   "metadata": {
    "collapsed": false
   },
   "outputs": [],
   "source": [
    "DATA_TEST_PATH = '../data/test.csv' # TODO: download test data and supply path here \n",
    "_, tX_test, ids_test = load_csv_data(DATA_TEST_PATH)"
   ]
  },
  {
   "cell_type": "code",
   "execution_count": 31,
   "metadata": {
    "collapsed": false
   },
   "outputs": [],
   "source": [
    "OUTPUT_PATH = '../data/predictions-group-36.csv' # TODO: fill in desired name of output file for submission\n",
    "y_pred = predict_labels(weights, tX_test)\n",
    "create_csv_submission(ids_test, y_pred, OUTPUT_PATH)"
   ]
  },
  {
   "cell_type": "code",
   "execution_count": null,
   "metadata": {
    "collapsed": true
   },
   "outputs": [],
   "source": []
  }
 ],
 "metadata": {
  "anaconda-cloud": {},
  "kernelspec": {
   "display_name": "Python [Root]",
   "language": "python",
   "name": "Python [Root]"
  },
  "language_info": {
   "codemirror_mode": {
    "name": "ipython",
    "version": 3
   },
   "file_extension": ".py",
   "mimetype": "text/x-python",
   "name": "python",
   "nbconvert_exporter": "python",
   "pygments_lexer": "ipython3",
   "version": "3.5.2"
  }
 },
 "nbformat": 4,
 "nbformat_minor": 0
}
