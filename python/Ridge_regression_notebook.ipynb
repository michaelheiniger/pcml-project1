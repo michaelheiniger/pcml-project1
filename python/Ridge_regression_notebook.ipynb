{
 "cells": [
  {
   "cell_type": "code",
   "execution_count": 100,
   "metadata": {
    "collapsed": false
   },
   "outputs": [
    {
     "name": "stdout",
     "output_type": "stream",
     "text": [
      "The autoreload extension is already loaded. To reload it, use:\n",
      "  %reload_ext autoreload\n"
     ]
    }
   ],
   "source": [
    "# Useful starting lines\n",
    "%matplotlib inline\n",
    "import numpy as np\n",
    "import matplotlib.pyplot as plt\n",
    "%load_ext autoreload\n",
    "%autoreload 2"
   ]
  },
  {
   "cell_type": "markdown",
   "metadata": {},
   "source": [
    "## 1) Load the training data into feature matrix, class labels, and event ids:"
   ]
  },
  {
   "cell_type": "code",
   "execution_count": 103,
   "metadata": {
    "collapsed": false,
    "scrolled": true
   },
   "outputs": [],
   "source": [
    "from proj1_helpers import *\n",
    "from helpers import *\n",
    "from data_modification import replace_by_mean\n",
    "\n",
    "\"\"\" Load TRAINING data \"\"\"\n",
    "DATA_TRAIN_PATH = '../data/train.csv'\n",
    "y, raw_tx, ids = load_csv_data(DATA_TRAIN_PATH)\n",
    "\n",
    "# Replace -999 by the mean of its respective column\n",
    "processed_tx = replace_by_mean(raw_tx)\n",
    "\n",
    "# Standardize (subtract mean and divive by standard deviation)\n",
    "processed_tx,_,_ = standardize(processed_tx)\n",
    "\n",
    "\"\"\" Load TEST data \"\"\"\n",
    "DATA_TEST_PATH = '../data/test.csv' # download test data and supply path here \n",
    "_, raw_tX_test, ids_test = load_csv_data(DATA_TEST_PATH)\n",
    "\n",
    "processed_tx_test = replace_by_mean(raw_tX_test)\n",
    "processed_tx_test,_,_ = standardize(processed_tx_test)\n"
   ]
  },
  {
   "cell_type": "markdown",
   "metadata": {},
   "source": [
    "## 2) Regular Ridge regression :"
   ]
  },
  {
   "cell_type": "code",
   "execution_count": 102,
   "metadata": {
    "collapsed": false,
    "scrolled": false
   },
   "outputs": [
    {
     "data": {
      "text/plain": [
       "<matplotlib.figure.Figure at 0x7fd9e7ae4e10>"
      ]
     },
     "metadata": {},
     "output_type": "display_data"
    }
   ],
   "source": [
    "from run_ridge_regression import *\n",
    "\n",
    "tx = np.copy(processed_tx)\n",
    "\n",
    "lambdas=np.logspace(-10, 10, 30)\n",
    "k_fold=10\n",
    "plot_filename = \"regular_ridge_regression\"\n",
    "\n",
    "run_ridge_regression(y, tx, lambdas, k_fold, filename=plot_filename)"
   ]
  },
  {
   "cell_type": "markdown",
   "metadata": {},
   "source": [
    "### 3) Compute weights and adapt test data for submission"
   ]
  },
  {
   "cell_type": "code",
   "execution_count": 104,
   "metadata": {
    "collapsed": true
   },
   "outputs": [],
   "source": [
    "from ridge_regression import ridge_regression\n",
    "lambda_ = 1e-3\n",
    "loss, weights = ridge_regression(y, tx, lambda_)\n",
    "\n",
    "tx_test = np.copy(processed_tx_test)"
   ]
  },
  {
   "cell_type": "markdown",
   "metadata": {},
   "source": [
    "## 2) Ridge regression with polynomial basis functions:"
   ]
  },
  {
   "cell_type": "code",
   "execution_count": 105,
   "metadata": {
    "collapsed": false,
    "scrolled": false
   },
   "outputs": [
    {
     "name": "stdout",
     "output_type": "stream",
     "text": [
      "Iteration for degree 2 started.\n",
      "Iteration for degree 2 over.\n",
      "Iteration for degree 3 started.\n",
      "Iteration for degree 3 over.\n",
      "Iteration for degree 5 started.\n",
      "Iteration for degree 5 over.\n"
     ]
    },
    {
     "data": {
      "text/plain": [
       "<matplotlib.figure.Figure at 0x7fda06505198>"
      ]
     },
     "metadata": {},
     "output_type": "display_data"
    }
   ],
   "source": [
    "from run_ridge_regression import *\n",
    "from build_polynomial import *\n",
    "\n",
    "degrees = [2, 3, 5]\n",
    "k_fold=10\n",
    "lambdas=np.logspace(-10, 10, 30)\n",
    "\n",
    "tx = np.copy(processed_tx)\n",
    "\n",
    "for degree in degrees:\n",
    "    print(\"Iteration for degree\",degree, \"started.\")\n",
    "    plot_filename = \"ridge_regression_poly_deg_%d\" % degree\n",
    "    tx_poly = build_poly_matrix(np.copy(tx), degree)\n",
    "    run_ridge_regression(y, tx_poly, lambdas, k_fold, filename=plot_filename)\n",
    "    print(\"Iteration for degree\",degree, \"over.\")"
   ]
  },
  {
   "cell_type": "markdown",
   "metadata": {},
   "source": [
    "### 3) Compute weights and adapt test data for submission"
   ]
  },
  {
   "cell_type": "code",
   "execution_count": 106,
   "metadata": {
    "collapsed": true
   },
   "outputs": [],
   "source": [
    "from ridge_regression import ridge_regression\n",
    "from build_polynomial import *\n",
    "\n",
    "degree = 2\n",
    "lambda_ = 1e-3\n",
    "tx_poly = build_poly_matrix(tx, degree)\n",
    "loss, weights = ridge_regression(y, tx_poly, lambda_)\n",
    "\n",
    "tx_test = np.copy(processed_tx_test)\n",
    "tx_test = build_poly_matrix(tx_test, degree)"
   ]
  },
  {
   "cell_type": "markdown",
   "metadata": {},
   "source": [
    "## 2) Ridge regression, tx augmented with cos:"
   ]
  },
  {
   "cell_type": "code",
   "execution_count": 108,
   "metadata": {
    "collapsed": false
   },
   "outputs": [
    {
     "data": {
      "text/plain": [
       "<matplotlib.figure.Figure at 0x7fd9e55de860>"
      ]
     },
     "metadata": {},
     "output_type": "display_data"
    }
   ],
   "source": [
    "from run_ridge_regression import *\n",
    "from add_functions_of_features import *\n",
    "\n",
    "tx = np.copy(processed_tx)\n",
    "\n",
    "k_fold=10\n",
    "lambdas=np.logspace(-10, 20, 30)\n",
    "plot_filename = \"ridge_regression_cos\"\n",
    "\n",
    "tx = add_cos_function(tx)\n",
    "run_ridge_regression(y, tx, lambdas, k_fold, filename=plot_filename)"
   ]
  },
  {
   "cell_type": "markdown",
   "metadata": {},
   "source": [
    "### 3) Compute weights and adapt test data for submission"
   ]
  },
  {
   "cell_type": "code",
   "execution_count": null,
   "metadata": {
    "collapsed": true
   },
   "outputs": [],
   "source": [
    "from ridge_regression import ridge_regression\n",
    "from add_functions_of_features import *\n",
    "\n",
    "lambda_ = 1e-3\n",
    "loss, weights = ridge_regression(y, tx, lambda_)\n",
    "\n",
    "tx_test = np.copy(processed_tx_test)\n",
    "tx_test = add_cos_function(tx_test)"
   ]
  },
  {
   "cell_type": "markdown",
   "metadata": {},
   "source": [
    "## 2) Ridge regression, tx augmented with exp:"
   ]
  },
  {
   "cell_type": "code",
   "execution_count": 110,
   "metadata": {
    "collapsed": false
   },
   "outputs": [
    {
     "data": {
      "text/plain": [
       "<matplotlib.figure.Figure at 0x7fd9e7acb6a0>"
      ]
     },
     "metadata": {},
     "output_type": "display_data"
    }
   ],
   "source": [
    "from run_ridge_regression import *\n",
    "from add_functions_of_features import *\n",
    "\n",
    "tx = np.copy(processed_tx)\n",
    "\n",
    "k_fold=10\n",
    "lambdas=np.logspace(-10, 20, 30)\n",
    "plot_filename = \"ridge_regression_exp\"\n",
    "\n",
    "tx = add_exp_function(tx)\n",
    "run_ridge_regression(y, tx, lambdas, k_fold, filename=plot_filename)"
   ]
  },
  {
   "cell_type": "markdown",
   "metadata": {},
   "source": [
    "### 3) Compute weights and adapt test data for submission"
   ]
  },
  {
   "cell_type": "code",
   "execution_count": 111,
   "metadata": {
    "collapsed": false
   },
   "outputs": [],
   "source": [
    "from ridge_regression import ridge_regression\n",
    "from add_functions_of_features import *\n",
    "\n",
    "lambda_ = 1e-3\n",
    "loss, weights = ridge_regression(y, tx, lambda_)\n",
    "\n",
    "tx_test = np.copy(processed_tx_test)\n",
    "tx_test = add_exp_function(tx_test)"
   ]
  },
  {
   "cell_type": "markdown",
   "metadata": {},
   "source": [
    "## 4) Generate predictions and save ouput in csv format for submission:"
   ]
  },
  {
   "cell_type": "code",
   "execution_count": 112,
   "metadata": {
    "collapsed": false
   },
   "outputs": [],
   "source": [
    "import datetime\n",
    "now = datetime.datetime.now()\n",
    "now_str = now.strftime(\"%d-%m-%Y_%Hh%M_%S\")\n",
    "OUTPUT_PATH = '../data/predictions-%s-group-36.csv' % now_str\n",
    "y_pred = predict_labels(weights, tx_test)\n",
    "create_csv_submission(ids_test, y_pred, OUTPUT_PATH)"
   ]
  }
 ],
 "metadata": {
  "anaconda-cloud": {},
  "kernelspec": {
   "display_name": "Python [Root]",
   "language": "python",
   "name": "Python [Root]"
  },
  "language_info": {
   "codemirror_mode": {
    "name": "ipython",
    "version": 3
   },
   "file_extension": ".py",
   "mimetype": "text/x-python",
   "name": "python",
   "nbconvert_exporter": "python",
   "pygments_lexer": "ipython3",
   "version": "3.5.2"
  }
 },
 "nbformat": 4,
 "nbformat_minor": 0
}
