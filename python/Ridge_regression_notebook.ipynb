{
 "cells": [
  {
   "cell_type": "code",
   "execution_count": 1,
   "metadata": {
    "collapsed": false
   },
   "outputs": [],
   "source": [
    "# Useful starting lines\n",
    "%matplotlib inline\n",
    "import numpy as np\n",
    "import matplotlib.pyplot as plt\n",
    "%load_ext autoreload\n",
    "%autoreload 2"
   ]
  },
  {
   "cell_type": "markdown",
   "metadata": {},
   "source": [
    "## 1) Load the training data into feature matrix, class labels, and event ids:"
   ]
  },
  {
   "cell_type": "code",
   "execution_count": 2,
   "metadata": {
    "collapsed": false,
    "scrolled": true
   },
   "outputs": [],
   "source": [
    "from proj1_helpers import *\n",
    "from helpers import *\n",
    "from data_modification import replace_by_mean\n",
    "import matplotlib.pyplot as plt\n",
    "\n",
    "\"\"\" Load TRAINING data \"\"\"\n",
    "DATA_TRAIN_PATH = '../data/train.csv'\n",
    "y, raw_tx, ids = load_csv_data(DATA_TRAIN_PATH)\n",
    "\n",
    "y = y[:,np.newaxis]\n",
    "\n",
    "# Replace -999 by the mean of its respective column\n",
    "processed_tx = replace_by_mean(raw_tx)\n",
    "\n",
    "# Standardize (subtract mean and divive by standard deviation)\n",
    "processed_tx,mean_pr_tx,std_pr_tx = standardize(processed_tx)\n",
    "\n",
    "\"\"\" Load TEST data \"\"\"\n",
    "DATA_TEST_PATH = '../data/test.csv' # download test data and supply path here \n",
    "_, raw_tX_test, ids_test = load_csv_data(DATA_TEST_PATH)\n",
    "\n",
    "processed_tx_test = replace_by_mean(raw_tX_test)\n",
    "processed_tx_test = standardize_test(processed_tx_test, mean_pr_tx, std_pr_tx)\n"
   ]
  },
  {
   "cell_type": "markdown",
   "metadata": {},
   "source": [
    "## Inter-features correlation plot:"
   ]
  },
  {
   "cell_type": "code",
   "execution_count": 18,
   "metadata": {
    "collapsed": false
   },
   "outputs": [
    {
     "data": {
      "image/png": "[encoded data removed]",
      "text/plain": [
       "<matplotlib.figure.Figure at 0x7f3db4424dd8>"
      ]
     },
     "metadata": {},
     "output_type": "display_data"
    }
   ],
   "source": [
    "standardized_tx,_,_ = standardize(raw_tx)\n",
    "R = np.corrcoef(standardized_tx[:,1:], rowvar=0)\n",
    "\n",
    "plt.imshow(R,interpolation='nearest')\n",
    "plt.colorbar()\n",
    "plt.show()"
   ]
  },
  {
   "cell_type": "markdown",
   "metadata": {},
   "source": [
    "## 2) Regular Ridge regression :"
   ]
  },
  {
   "cell_type": "code",
   "execution_count": 11,
   "metadata": {
    "collapsed": false,
    "scrolled": false
   },
   "outputs": [
    {
     "data": {
      "text/plain": [
       "<matplotlib.figure.Figure at 0x7f4274ab25f8>"
      ]
     },
     "metadata": {},
     "output_type": "display_data"
    }
   ],
   "source": [
    "from run_ridge_regression import *\n",
    "\n",
    "tx = np.copy(processed_tx)\n",
    "\n",
    "lambdas=np.logspace(-10, 10, 30)\n",
    "k_fold=10\n",
    "plot_filename = \"images/regular_ridge_regression\"\n",
    "\n",
    "run_ridge_regression(y, tx, lambdas, k_fold, filename=plot_filename)"
   ]
  },
  {
   "cell_type": "markdown",
   "metadata": {},
   "source": [
    "### 3) Compute weights and adapt test data for submission"
   ]
  },
  {
   "cell_type": "code",
   "execution_count": 13,
   "metadata": {
    "collapsed": false
   },
   "outputs": [],
   "source": [
    "from implementations import ridge_regression\n",
    "lambda_ = 1e-3\n",
    "weights, loss = ridge_regression(y, tx, lambda_)\n",
    "\n",
    "tx_test = np.copy(processed_tx_test)"
   ]
  },
  {
   "cell_type": "markdown",
   "metadata": {},
   "source": [
    "## 2) Ridge regression with polynomial basis functions:"
   ]
  },
  {
   "cell_type": "code",
   "execution_count": 29,
   "metadata": {
    "collapsed": false,
    "scrolled": false
   },
   "outputs": [
    {
     "name": "stdout",
     "output_type": "stream",
     "text": [
      "Iteration for degree 2 started.\n",
      "Iteration for degree 2 over.\n",
      "Iteration for degree 3 started.\n",
      "Iteration for degree 3 over.\n",
      "Iteration for degree 4 started.\n",
      "Iteration for degree 4 over.\n"
     ]
    },
    {
     "data": {
      "text/plain": [
       "<matplotlib.figure.Figure at 0x7f3dfd304390>"
      ]
     },
     "metadata": {},
     "output_type": "display_data"
    }
   ],
   "source": [
    "from run_ridge_regression import *\n",
    "from feature_transformation import *\n",
    "\n",
    "degrees = [ 2,3,4 ]\n",
    "k_fold=10\n",
    "lambdas=np.logspace(-10, 10, 30)\n",
    "\n",
    "tx = np.copy(processed_tx)\n",
    "\n",
    "for degree in degrees:\n",
    "    print(\"Iteration for degree\",degree, \"started.\")\n",
    "    plot_filename = \"images/ridge_regression_poly_deg_%d\" % degree\n",
    "    tx_poly = build_poly_matrix(np.copy(tx), degree)\n",
    "    run_ridge_regression(y, tx_poly, lambdas, k_fold, filename=plot_filename)\n",
    "    print(\"Iteration for degree\",degree, \"over.\")"
   ]
  },
  {
   "cell_type": "markdown",
   "metadata": {},
   "source": [
    "### 3) Compute weights and adapt test data for submission"
   ]
  },
  {
   "cell_type": "code",
   "execution_count": 6,
   "metadata": {
    "collapsed": false
   },
   "outputs": [
    {
     "ename": "ImportError",
     "evalue": "No module named 'build_polynomial'",
     "output_type": "error",
     "traceback": [
      "\u001b[1;31m---------------------------------------------------------------------------\u001b[0m",
      "\u001b[1;31mImportError\u001b[0m                               Traceback (most recent call last)",
      "\u001b[1;32m<ipython-input-6-78b55f76e2ed>\u001b[0m in \u001b[0;36m<module>\u001b[1;34m()\u001b[0m\n\u001b[0;32m      1\u001b[0m \u001b[1;32mfrom\u001b[0m \u001b[0mridge_regression\u001b[0m \u001b[1;32mimport\u001b[0m \u001b[0mridge_regression\u001b[0m\u001b[1;33m\u001b[0m\u001b[0m\n\u001b[1;32m----> 2\u001b[1;33m \u001b[1;32mfrom\u001b[0m \u001b[0mbuild_polynomial\u001b[0m \u001b[1;32mimport\u001b[0m \u001b[1;33m*\u001b[0m\u001b[1;33m\u001b[0m\u001b[0m\n\u001b[0m\u001b[0;32m      3\u001b[0m \u001b[1;33m\u001b[0m\u001b[0m\n\u001b[0;32m      4\u001b[0m \u001b[0mdegree\u001b[0m \u001b[1;33m=\u001b[0m \u001b[1;36m2\u001b[0m\u001b[1;33m\u001b[0m\u001b[0m\n\u001b[0;32m      5\u001b[0m \u001b[0mlambda_\u001b[0m \u001b[1;33m=\u001b[0m \u001b[1;36m1e-3\u001b[0m\u001b[1;33m\u001b[0m\u001b[0m\n",
      "\u001b[1;31mImportError\u001b[0m: No module named 'build_polynomial'"
     ]
    }
   ],
   "source": [
    "from ridge_regression import ridge_regression\n",
    "from build_polynomial import *\n",
    "\n",
    "degree = 2\n",
    "lambda_ = 1e-3\n",
    "tx_poly = build_poly_matrix(tx, degree)\n",
    "weights, loss = ridge_regression(y, tx_poly, lambda_)\n",
    "\n",
    "tx_test = np.copy(processed_tx_test)\n",
    "tx_test = build_poly_matrix(tx_test, degree)"
   ]
  },
  {
   "cell_type": "markdown",
   "metadata": {},
   "source": [
    "## 2) Ridge regression, tx augmented with sin,cos,exp,sinc:"
   ]
  },
  {
   "cell_type": "code",
   "execution_count": 6,
   "metadata": {
    "collapsed": false
   },
   "outputs": [
    {
     "data": {
      "text/plain": [
       "<matplotlib.figure.Figure at 0x7f42c1c58f98>"
      ]
     },
     "metadata": {},
     "output_type": "display_data"
    }
   ],
   "source": [
    "from run_ridge_regression import *\n",
    "from feature_transformation import *\n",
    "\n",
    "tx = np.copy(processed_tx)\n",
    "\n",
    "k_fold=10\n",
    "lambdas=np.logspace(-10, 10, 30)\n",
    "plot_filename = \"images/ridge_regression_lots_of_func\"\n",
    "\n",
    "tx = add_functions(tx)\n",
    "run_ridge_regression(y, tx, lambdas, k_fold, filename=plot_filename)"
   ]
  },
  {
   "cell_type": "markdown",
   "metadata": {},
   "source": [
    "### 3) Compute weights and adapt test data for submission"
   ]
  },
  {
   "cell_type": "code",
   "execution_count": 9,
   "metadata": {
    "collapsed": false
   },
   "outputs": [],
   "source": [
    "from implementations import ridge_regression\n",
    "from feature_transformation import *\n",
    "\n",
    "lambda_ = 5\n",
    "weights, loss = ridge_regression(y, tx, lambda_)\n",
    "\n",
    "tx_test = np.copy(processed_tx_test)\n",
    "tx_test = add_functions(tx_test)"
   ]
  },
  {
   "cell_type": "markdown",
   "metadata": {},
   "source": [
    "## 2) Ridge regression, tx augmented with sinc:"
   ]
  },
  {
   "cell_type": "code",
   "execution_count": 16,
   "metadata": {
    "collapsed": false
   },
   "outputs": [
    {
     "data": {
      "text/plain": [
       "<matplotlib.figure.Figure at 0x7f42c10a8b00>"
      ]
     },
     "metadata": {},
     "output_type": "display_data"
    }
   ],
   "source": [
    "from run_ridge_regression import *\n",
    "from feature_transformation import *\n",
    "\n",
    "tx = np.copy(processed_tx)\n",
    "\n",
    "k_fold=10\n",
    "lambdas=np.logspace(-10, 10, 30)\n",
    "plot_filename = \"images/ridge_regression_sinc\"\n",
    "\n",
    "tx = add_sinc_function(tx)\n",
    "run_ridge_regression(y, tx, lambdas, k_fold, filename=plot_filename)"
   ]
  },
  {
   "cell_type": "markdown",
   "metadata": {},
   "source": [
    "### 3) Compute weights and adapt test data for submission"
   ]
  },
  {
   "cell_type": "code",
   "execution_count": 17,
   "metadata": {
    "collapsed": false
   },
   "outputs": [],
   "source": [
    "from implementations import ridge_regression\n",
    "from feature_transformation import *\n",
    "\n",
    "lambda_ = 0.001\n",
    "weights, loss = ridge_regression(y, tx, lambda_)\n",
    "\n",
    "tx_test = np.copy(processed_tx_test)\n",
    "tx_test = add_sinc_function(tx_test)"
   ]
  },
  {
   "cell_type": "markdown",
   "metadata": {},
   "source": [
    "## 2) Ridge regression, tx augmented with exp:"
   ]
  },
  {
   "cell_type": "code",
   "execution_count": null,
   "metadata": {
    "collapsed": false
   },
   "outputs": [],
   "source": [
    "from run_ridge_regression import *\n",
    "from add_functions_of_features import *\n",
    "\n",
    "tx = np.copy(processed_tx)\n",
    "\n",
    "k_fold=10\n",
    "lambdas=np.logspace(-10, 20, 30)\n",
    "plot_filename = \"ridge_regression_exp\"\n",
    "\n",
    "tx = add_exp_function(tx)\n",
    "run_ridge_regression(y, tx, lambdas, k_fold, filename=plot_filename)"
   ]
  },
  {
   "cell_type": "markdown",
   "metadata": {},
   "source": [
    "### 3) Compute weights and adapt test data for submission"
   ]
  },
  {
   "cell_type": "code",
   "execution_count": 111,
   "metadata": {
    "collapsed": false
   },
   "outputs": [],
   "source": [
    "from ridge_regression import ridge_regression\n",
    "from add_functions_of_features import *\n",
    "\n",
    "lambda_ = 1e-3\n",
    "weights, loss = ridge_regression(y, tx, lambda_)\n",
    "\n",
    "tx_test = np.copy(processed_tx_test)\n",
    "tx_test = add_exp_function(tx_test)"
   ]
  },
  {
   "cell_type": "markdown",
   "metadata": {},
   "source": [
    "## 4) Generate predictions and save ouput in csv format for submission:"
   ]
  },
  {
   "cell_type": "code",
   "execution_count": 18,
   "metadata": {
    "collapsed": false
   },
   "outputs": [],
   "source": [
    "import datetime\n",
    "now = datetime.datetime.now()\n",
    "now_str = now.strftime(\"%d-%m-%Y_%Hh%M_%S\")\n",
    "OUTPUT_PATH = '../data/predictions-%s-group-36.csv' % now_str\n",
    "y_pred = predict_labels(weights, tx_test)\n",
    "create_csv_submission(ids_test, y_pred, OUTPUT_PATH)"
   ]
  }
 ],
 "metadata": {
  "anaconda-cloud": {},
  "kernelspec": {
   "display_name": "Python [Root]",
   "language": "python",
   "name": "Python [Root]"
  },
  "language_info": {
   "codemirror_mode": {
    "name": "ipython",
    "version": 3
   },
   "file_extension": ".py",
   "mimetype": "text/x-python",
   "name": "python",
   "nbconvert_exporter": "python",
   "pygments_lexer": "ipython3",
   "version": "3.5.2"
  }
 },
 "nbformat": 4,
 "nbformat_minor": 0
}
