{
 "cells": [
  {
   "cell_type": "code",
   "execution_count": 1,
   "metadata": {
    "collapsed": false
   },
   "outputs": [],
   "source": [
    "# Useful starting lines\n",
    "%matplotlib inline\n",
    "import numpy as np\n",
    "import matplotlib.pyplot as plt\n",
    "%load_ext autoreload\n",
    "%autoreload 2"
   ]
  },
  {
   "cell_type": "markdown",
   "metadata": {},
   "source": [
    "## 1) Load the training data into feature matrix, class labels, and event ids:"
   ]
  },
  {
   "cell_type": "code",
   "execution_count": 2,
   "metadata": {
    "collapsed": false
   },
   "outputs": [],
   "source": [
    "from proj1_helpers import *\n",
    "from helpers import *\n",
    "from data_modification import replace_by_mean\n",
    "\n",
    "\n",
    "\"\"\" Load TRAINING data \"\"\"\n",
    "DATA_TRAIN_PATH = '/Users/chiara/Documents/EPFL/Master/Ma1/MachineLearning/project1/data/train.csv'\n",
    "y, raw_tx, ids = load_csv_data(DATA_TRAIN_PATH)\n",
    "y = np.reshape(y, (len(y),1))\n",
    "idx = y ==-1\n",
    "y[y == -1] = 0\n",
    "\n",
    "\n",
    "# Replace -999 by the mean of its respective column\n",
    "processed_tx = replace_by_mean(raw_tx)\n",
    "\n",
    "# Standardize (subtract mean and divive by standard deviation)\n",
    "processed_tx, mean_x, std_x = standardize(processed_tx)\n",
    "\n",
    "\n",
    "\"\"\" Load TEST data \"\"\"\n",
    "DATA_TEST_PATH = '/Users/chiara/Documents/EPFL/Master/Ma1/MachineLearning/project1/data/test.csv' # download test data and supply path here \n",
    "_, raw_tX_test, ids_test = load_csv_data(DATA_TEST_PATH)\n",
    "\n",
    "processed_tx_test = replace_by_mean(raw_tX_test)\n",
    "processed_tx_test = standardize_(processed_tx_test, mean_x, std_x)"
   ]
  },
  {
   "cell_type": "markdown",
   "metadata": {},
   "source": [
    "## Logistic Regression"
   ]
  },
  {
   "cell_type": "code",
   "execution_count": 5,
   "metadata": {
    "collapsed": false,
    "scrolled": true
   },
   "outputs": [
    {
     "name": "stdout",
     "output_type": "stream",
     "text": [
      "Current iteration=0, the loss=0.6931471805599453\n",
      "Current iteration=50, the loss=6930773673647726.0\n",
      "Current iteration=100, the loss=202634675564915.2\n",
      "Current iteration=150, the loss=83407062895006.77\n",
      "Current iteration=200, the loss=349243069360980.3\n",
      "Current iteration=250, the loss=620628892208067.9\n",
      "Current iteration=300, the loss=173069928357050.34\n"
     ]
    },
    {
     "ename": "KeyboardInterrupt",
     "evalue": "",
     "output_type": "error",
     "traceback": [
      "\u001b[0;31m---------------------------------------------------------------------------\u001b[0m",
      "\u001b[0;31mKeyboardInterrupt\u001b[0m                         Traceback (most recent call last)",
      "\u001b[0;32m<ipython-input-5-675625f07070>\u001b[0m in \u001b[0;36m<module>\u001b[0;34m()\u001b[0m\n\u001b[1;32m     10\u001b[0m \u001b[0;34m\u001b[0m\u001b[0m\n\u001b[1;32m     11\u001b[0m \u001b[0mgamma\u001b[0m \u001b[0;34m=\u001b[0m \u001b[0;36m0.0001\u001b[0m\u001b[0;34m\u001b[0m\u001b[0m\n\u001b[0;32m---> 12\u001b[0;31m \u001b[0mloss\u001b[0m\u001b[0;34m,\u001b[0m \u001b[0mw\u001b[0m \u001b[0;34m=\u001b[0m \u001b[0mlogistic_regression\u001b[0m\u001b[0;34m(\u001b[0m\u001b[0my_train\u001b[0m\u001b[0;34m,\u001b[0m \u001b[0mx_train\u001b[0m\u001b[0;34m,\u001b[0m \u001b[0mgamma\u001b[0m\u001b[0;34m,\u001b[0m \u001b[0;36m500\u001b[0m\u001b[0;34m)\u001b[0m\u001b[0;34m\u001b[0m\u001b[0m\n\u001b[0m\u001b[1;32m     13\u001b[0m \u001b[0my_pred\u001b[0m \u001b[0;34m=\u001b[0m \u001b[0mpredict_labels_LR\u001b[0m\u001b[0;34m(\u001b[0m\u001b[0mw\u001b[0m\u001b[0;34m,\u001b[0m \u001b[0mx_test\u001b[0m\u001b[0;34m)\u001b[0m\u001b[0;34m\u001b[0m\u001b[0m\n\u001b[1;32m     14\u001b[0m \u001b[0my_pred\u001b[0m\u001b[0;34m[\u001b[0m\u001b[0my_pred\u001b[0m \u001b[0;34m==\u001b[0m \u001b[0;34m-\u001b[0m\u001b[0;36m1\u001b[0m\u001b[0;34m]\u001b[0m \u001b[0;34m=\u001b[0m\u001b[0;36m0\u001b[0m\u001b[0;34m\u001b[0m\u001b[0m\n",
      "\u001b[0;32m/Users/chiara/Documents/EPFL/Master/Ma1/MachineLearning/project1/pcml-project1/python/logistic_regression.py\u001b[0m in \u001b[0;36mlogistic_regression\u001b[0;34m(y, tx, gamma, max_iters)\u001b[0m\n\u001b[1;32m     16\u001b[0m     \u001b[0;32mfor\u001b[0m \u001b[0miter\u001b[0m \u001b[0;32min\u001b[0m \u001b[0mrange\u001b[0m\u001b[0;34m(\u001b[0m\u001b[0mmax_iters\u001b[0m\u001b[0;34m)\u001b[0m\u001b[0;34m:\u001b[0m\u001b[0;34m\u001b[0m\u001b[0m\n\u001b[1;32m     17\u001b[0m \u001b[0;34m\u001b[0m\u001b[0m\n\u001b[0;32m---> 18\u001b[0;31m         \u001b[0my_batch\u001b[0m\u001b[0;34m,\u001b[0m \u001b[0mtx_batch\u001b[0m \u001b[0;34m=\u001b[0m \u001b[0mnext\u001b[0m\u001b[0;34m(\u001b[0m\u001b[0mbatch_iter\u001b[0m\u001b[0;34m(\u001b[0m\u001b[0my\u001b[0m\u001b[0;34m,\u001b[0m \u001b[0mtx\u001b[0m\u001b[0;34m,\u001b[0m \u001b[0mbatch_size\u001b[0m\u001b[0;34m,\u001b[0m \u001b[0mnum_batches\u001b[0m\u001b[0;34m=\u001b[0m\u001b[0;36m1\u001b[0m\u001b[0;34m,\u001b[0m \u001b[0mshuffle\u001b[0m\u001b[0;34m=\u001b[0m\u001b[0;32mTrue\u001b[0m\u001b[0;34m)\u001b[0m\u001b[0;34m)\u001b[0m\u001b[0;34m\u001b[0m\u001b[0m\n\u001b[0m\u001b[1;32m     19\u001b[0m \u001b[0;34m\u001b[0m\u001b[0m\n\u001b[1;32m     20\u001b[0m         \u001b[0mgrad\u001b[0m\u001b[0;34m,\u001b[0m \u001b[0mloss\u001b[0m \u001b[0;34m=\u001b[0m \u001b[0mcompute_gradient_log_likelihood\u001b[0m\u001b[0;34m(\u001b[0m\u001b[0my_batch\u001b[0m\u001b[0;34m,\u001b[0m \u001b[0mtx_batch\u001b[0m\u001b[0;34m,\u001b[0m \u001b[0mw\u001b[0m\u001b[0;34m)\u001b[0m\u001b[0;34m,\u001b[0m \u001b[0mcompute_log_likelihood\u001b[0m\u001b[0;34m(\u001b[0m\u001b[0my_batch\u001b[0m\u001b[0;34m,\u001b[0m \u001b[0mtx_batch\u001b[0m\u001b[0;34m,\u001b[0m \u001b[0mw\u001b[0m\u001b[0;34m)\u001b[0m\u001b[0;34m/\u001b[0m\u001b[0mlen\u001b[0m\u001b[0;34m(\u001b[0m\u001b[0my_batch\u001b[0m\u001b[0;34m)\u001b[0m\u001b[0;34m\u001b[0m\u001b[0m\n",
      "\u001b[0;32m/Users/chiara/Documents/EPFL/Master/Ma1/MachineLearning/project1/pcml-project1/python/helpers.py\u001b[0m in \u001b[0;36mbatch_iter\u001b[0;34m(y, tx, batch_size, num_batches, shuffle)\u001b[0m\n\u001b[1;32m     93\u001b[0m         \u001b[0mshuffle_indices\u001b[0m \u001b[0;34m=\u001b[0m \u001b[0mnp\u001b[0m\u001b[0;34m.\u001b[0m\u001b[0mrandom\u001b[0m\u001b[0;34m.\u001b[0m\u001b[0mpermutation\u001b[0m\u001b[0;34m(\u001b[0m\u001b[0mnp\u001b[0m\u001b[0;34m.\u001b[0m\u001b[0marange\u001b[0m\u001b[0;34m(\u001b[0m\u001b[0mdata_size\u001b[0m\u001b[0;34m)\u001b[0m\u001b[0;34m)\u001b[0m\u001b[0;34m\u001b[0m\u001b[0m\n\u001b[1;32m     94\u001b[0m         \u001b[0mshuffled_y\u001b[0m \u001b[0;34m=\u001b[0m \u001b[0my\u001b[0m\u001b[0;34m[\u001b[0m\u001b[0mshuffle_indices\u001b[0m\u001b[0;34m]\u001b[0m\u001b[0;34m\u001b[0m\u001b[0m\n\u001b[0;32m---> 95\u001b[0;31m         \u001b[0mshuffled_tx\u001b[0m \u001b[0;34m=\u001b[0m \u001b[0mtx\u001b[0m\u001b[0;34m[\u001b[0m\u001b[0mshuffle_indices\u001b[0m\u001b[0;34m]\u001b[0m\u001b[0;34m\u001b[0m\u001b[0m\n\u001b[0m\u001b[1;32m     96\u001b[0m     \u001b[0;32melse\u001b[0m\u001b[0;34m:\u001b[0m\u001b[0;34m\u001b[0m\u001b[0m\n\u001b[1;32m     97\u001b[0m         \u001b[0mshuffled_y\u001b[0m \u001b[0;34m=\u001b[0m \u001b[0my\u001b[0m\u001b[0;34m\u001b[0m\u001b[0m\n",
      "\u001b[0;31mKeyboardInterrupt\u001b[0m: "
     ]
    }
   ],
   "source": [
    "from helpers import split_data\n",
    "from proj1_helpers import predict_labels_LR\n",
    "from logistic_regression import logistic_regression\n",
    "from feature_transformation import build_poly_matrix\n",
    "\n",
    "x_poly = build_poly_matrix(np.copy(processed_tx),7)\n",
    "\n",
    "ratio = 0.9\n",
    "x_train, y_train, x_test, y_test = split_data(x_poly, np.copy(y), ratio)\n",
    "\n",
    "gamma = 0.0001\n",
    "loss, w = logistic_regression(y_train, x_train, gamma, 500)\n",
    "y_pred = predict_labels_LR(w, x_test)\n",
    "y_pred[y_pred == -1] =0\n",
    "\n",
    "same = y_pred == y_test\n",
    "correct_rate = np.sum(same)/ len(y_test)\n",
    "correct_rate"
   ]
  },
  {
   "cell_type": "code",
   "execution_count": 157,
   "metadata": {
    "collapsed": false,
    "scrolled": true
   },
   "outputs": [
    {
     "name": "stdout",
     "output_type": "stream",
     "text": [
      "Current iteration=0, the loss=0.6931471805599453\n",
      "3831.68565295\n",
      "Current iteration=50, the loss=0.5029563122762439\n",
      "246.974775425\n",
      "Current iteration=100, the loss=0.5066116909440065\n",
      "348.670891611\n",
      "Current iteration=150, the loss=0.5030900661873708\n",
      "179.785630211\n",
      "Current iteration=200, the loss=0.5030207759388139\n",
      "238.765112893\n",
      "Current iteration=250, the loss=0.500780625428002\n",
      "265.807270059\n",
      "Current iteration=300, the loss=0.5021540187827936\n",
      "173.710998726\n",
      "Current iteration=350, the loss=0.4972551034303976\n",
      "235.10864444\n",
      "Current iteration=400, the loss=0.4932314383251207\n",
      "293.858734895\n",
      "Current iteration=450, the loss=0.5019149458899708\n",
      "270.912380219\n",
      "Current iteration=500, the loss=0.5090183193064483\n",
      "225.617038513\n",
      "Current iteration=550, the loss=0.49495204101381834\n",
      "196.785348684\n",
      "Current iteration=600, the loss=0.4980181789168184\n",
      "281.648715068\n",
      "Current iteration=650, the loss=0.507798072836081\n",
      "176.054800943\n",
      "Current iteration=700, the loss=0.49780441379898654\n",
      "212.031590373\n",
      "Current iteration=750, the loss=0.4975777972473262\n",
      "275.184670617\n",
      "Current iteration=800, the loss=0.4963489555627926\n",
      "295.405503165\n",
      "Current iteration=850, the loss=0.5003191078563002\n",
      "237.573714119\n",
      "Current iteration=900, the loss=0.49858413049022765\n",
      "214.530528544\n",
      "Current iteration=950, the loss=0.5045630245528385\n",
      "212.487322671\n"
     ]
    }
   ],
   "source": [
    "gamma = 0.0001\n",
    "loss, weights = logistic_regression(y, np.copy(processed_tx), gamma, 1000)"
   ]
  },
  {
   "cell_type": "markdown",
   "metadata": {},
   "source": [
    "### prepare for submission"
   ]
  },
  {
   "cell_type": "code",
   "execution_count": 159,
   "metadata": {
    "collapsed": false
   },
   "outputs": [],
   "source": [
    "tx_test = np.copy(processed_tx_test)\n",
    "import datetime\n",
    "now = datetime.datetime.now()\n",
    "now_str = now.strftime(\"%d-%m-%Y_%Hh%M_%S\")\n",
    "OUTPUT_PATH = '/Users/chiara/Documents/EPFL/Master/Ma1/MachineLearning/project1/data/predictions-%s-group-36.csv' % now_str\n",
    "y_pred = predict_labels_LR(weights, tx_test)\n",
    "create_csv_submission(ids_test, y_pred, OUTPUT_PATH)"
   ]
  },
  {
   "cell_type": "markdown",
   "metadata": {
    "collapsed": false
   },
   "source": [
    "## Regular Reg_logistic regression"
   ]
  },
  {
   "cell_type": "code",
   "execution_count": 68,
   "metadata": {
    "collapsed": false,
    "scrolled": true
   },
   "outputs": [
    {
     "name": "stdout",
     "output_type": "stream",
     "text": [
      "Current iteration=0, the loss=[ 693.14718056]\n",
      "Current iteration=100, the loss=[-269927.18122539]\n",
      "Current iteration=0, the loss=[ 693.14718056]\n",
      "Current iteration=100, the loss=[-274023.2293692]\n",
      "Current iteration=0, the loss=[ 693.14718056]\n",
      "Current iteration=100, the loss=[-286563.25923926]\n",
      "Current iteration=0, the loss=[ 693.14718056]\n",
      "Current iteration=100, the loss=[-239357.94457749]\n",
      "Current iteration=0, the loss=[ 693.14718056]\n",
      "Current iteration=100, the loss=[-220577.43802734]\n",
      "Current iteration=0, the loss=[ 693.14718056]\n",
      "Current iteration=100, the loss=[-121746.93673172]\n",
      "Current iteration=0, the loss=[ 693.14718056]\n",
      "Current iteration=100, the loss=[-76309.27902676]\n",
      "Current iteration=0, the loss=[ 693.14718056]\n",
      "Current iteration=100, the loss=[-34809.37269811]\n",
      "Current iteration=0, the loss=[ 693.14718056]\n",
      "Current iteration=100, the loss=[-14657.82273021]\n",
      "Current iteration=0, the loss=[ 693.14718056]\n",
      "Current iteration=100, the loss=[-7039.12475989]\n",
      "Current iteration=0, the loss=[ 693.14718056]\n",
      "Current iteration=100, the loss=[-319949.17283048]\n",
      "Current iteration=0, the loss=[ 693.14718056]\n",
      "Current iteration=100, the loss=[-266909.21437839]\n",
      "Current iteration=0, the loss=[ 693.14718056]\n",
      "Current iteration=100, the loss=[-298059.18407728]\n",
      "Current iteration=0, the loss=[ 693.14718056]\n",
      "Current iteration=100, the loss=[-238685.43928754]\n",
      "Current iteration=0, the loss=[ 693.14718056]\n",
      "Current iteration=100, the loss=[-176202.71371886]\n",
      "Current iteration=0, the loss=[ 693.14718056]\n",
      "Current iteration=100, the loss=[-118045.901078]\n",
      "Current iteration=0, the loss=[ 693.14718056]\n",
      "Current iteration=100, the loss=[-82966.09209493]\n",
      "Current iteration=0, the loss=[ 693.14718056]\n",
      "Current iteration=100, the loss=[-31249.88531787]\n",
      "Current iteration=0, the loss=[ 693.14718056]\n",
      "Current iteration=100, the loss=[-16581.02879181]\n",
      "Current iteration=0, the loss=[ 693.14718056]\n",
      "Current iteration=100, the loss=[-7180.15611662]\n",
      "Current iteration=0, the loss=[ 693.14718056]\n",
      "Current iteration=100, the loss=[-258593.75074738]\n",
      "Current iteration=0, the loss=[ 693.14718056]\n",
      "Current iteration=100, the loss=[-271414.03621894]\n",
      "Current iteration=0, the loss=[ 693.14718056]\n",
      "Current iteration=100, the loss=[-273811.80684574]\n",
      "Current iteration=0, the loss=[ 693.14718056]\n",
      "Current iteration=100, the loss=[-234480.26389682]\n",
      "Current iteration=0, the loss=[ 693.14718056]\n",
      "Current iteration=100, the loss=[-206894.92224277]\n",
      "Current iteration=0, the loss=[ 693.14718056]\n",
      "Current iteration=100, the loss=[-124013.43672647]\n",
      "Current iteration=0, the loss=[ 693.14718056]\n",
      "Current iteration=100, the loss=[-71497.99027232]\n",
      "Current iteration=0, the loss=[ 693.14718056]\n",
      "Current iteration=100, the loss=[-28337.36546018]\n",
      "Current iteration=0, the loss=[ 693.14718056]\n",
      "Current iteration=100, the loss=[-18445.07692408]\n",
      "Current iteration=0, the loss=[ 693.14718056]\n",
      "Current iteration=100, the loss=[-6769.72135973]\n",
      "Current iteration=0, the loss=[ 693.14718056]\n",
      "Current iteration=100, the loss=[-303961.37086775]\n",
      "Current iteration=0, the loss=[ 693.14718056]\n",
      "Current iteration=100, the loss=[-260221.25387834]\n",
      "Current iteration=0, the loss=[ 693.14718056]\n",
      "Current iteration=100, the loss=[-299425.96132872]\n",
      "Current iteration=0, the loss=[ 693.14718056]\n",
      "Current iteration=100, the loss=[-252287.14638764]\n",
      "Current iteration=0, the loss=[ 693.14718056]\n",
      "Current iteration=100, the loss=[-203389.76442999]\n",
      "Current iteration=0, the loss=[ 693.14718056]\n",
      "Current iteration=100, the loss=[-142866.34306132]\n",
      "Current iteration=0, the loss=[ 693.14718056]\n",
      "Current iteration=100, the loss=[-71006.11856211]\n",
      "Current iteration=0, the loss=[ 693.14718056]\n",
      "Current iteration=100, the loss=[-34201.86182548]\n",
      "Current iteration=0, the loss=[ 693.14718056]\n",
      "Current iteration=100, the loss=[-13640.33916462]\n",
      "Current iteration=0, the loss=[ 693.14718056]\n",
      "Current iteration=100, the loss=[-4771.10330165]\n"
     ]
    },
    {
     "data": {
      "image/png": "[encoded data removed]",
      "text/plain": [
       "<matplotlib.figure.Figure at 0x120837ef0>"
      ]
     },
     "metadata": {},
     "output_type": "display_data"
    }
   ],
   "source": [
    "from cross_validation_RLR import run_reg_logistic_regression\n",
    "\n",
    "tx = np.copy(processed_tx)\n",
    "gamma = 0.1\n",
    "max_iters = 200\n",
    "run_reg_logistic_regression(y, tx, 0.01, max_iters)"
   ]
  },
  {
   "cell_type": "markdown",
   "metadata": {},
   "source": [
    "## 4) Generate predictions and save ouput in csv format for submission:"
   ]
  },
  {
   "cell_type": "code",
   "execution_count": 89,
   "metadata": {
    "collapsed": true
   },
   "outputs": [],
   "source": [
    "import datetime\n",
    "now = datetime.datetime.now()\n",
    "now_str = now.strftime(\"%d-%m-%Y_%Hh%M_%S\")\n",
    "OUTPUT_PATH = '/Users/chiara/Documents/EPFL/Master/Ma1/MachineLearning/project1/data/predictions-%s-group-36.csv' % now_str\n",
    "y_pred = predict_labels(weights, tx_test)\n",
    "create_csv_submission(ids_test, y_pred, OUTPUT_PATH)"
   ]
  }
 ],
 "metadata": {
  "anaconda-cloud": {},
  "kernelspec": {
   "display_name": "Python [Root]",
   "language": "python",
   "name": "Python [Root]"
  },
  "language_info": {
   "codemirror_mode": {
    "name": "ipython",
    "version": 3
   },
   "file_extension": ".py",
   "mimetype": "text/x-python",
   "name": "python",
   "nbconvert_exporter": "python",
   "pygments_lexer": "ipython3",
   "version": "3.5.2"
  }
 },
 "nbformat": 4,
 "nbformat_minor": 0
}
